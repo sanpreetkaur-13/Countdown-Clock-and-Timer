{
 "cells": [
  {
   "cell_type": "code",
   "execution_count": 1,
   "metadata": {},
   "outputs": [],
   "source": [
    "import datetime"
   ]
  },
  {
   "cell_type": "code",
   "execution_count": 2,
   "metadata": {},
   "outputs": [
    {
     "name": "stdout",
     "output_type": "stream",
     "text": [
      "Enter first date in YYYY-MM-DD \n",
      "2021-12-15\n"
     ]
    }
   ],
   "source": [
    "try:\n",
    "    dateinp=input(\"Enter first date in YYYY-MM-DD \\n\")\n",
    "    year, month ,day=map(int,dateinp.split('-')) \n",
    "    date1= datetime.date(year, month ,day)\n",
    "except:\n",
    "    print(\"Wrong date entered. \\n Please re-enter date.\")"
   ]
  },
  {
   "cell_type": "code",
   "execution_count": 3,
   "metadata": {},
   "outputs": [
    {
     "name": "stdout",
     "output_type": "stream",
     "text": [
      "Enter second date in YYYY-MM-DD \n",
      "2021-12-17\n"
     ]
    }
   ],
   "source": [
    "try:\n",
    "    dateinp=input(\"Enter second date in YYYY-MM-DD \\n\")\n",
    "    year, month ,day=map(int,dateinp.split('-')) \n",
    "    date2= datetime.date(year, month ,day)\n",
    "except:\n",
    "    print(\"Wrong date entered. \\n Please re-enter date.\")"
   ]
  },
  {
   "cell_type": "code",
   "execution_count": 4,
   "metadata": {},
   "outputs": [
    {
     "name": "stdout",
     "output_type": "stream",
     "text": [
      "2 days, 0:00:00\n"
     ]
    }
   ],
   "source": [
    "day_diff=date2-date1\n",
    "print(day_diff)"
   ]
  },
  {
   "cell_type": "code",
   "execution_count": 5,
   "metadata": {},
   "outputs": [
    {
     "name": "stdout",
     "output_type": "stream",
     "text": [
      "172800.0 seconds\n"
     ]
    }
   ],
   "source": [
    "seconds=day_diff.total_seconds()\n",
    "print(seconds,\"seconds\")"
   ]
  },
  {
   "cell_type": "code",
   "execution_count": 6,
   "metadata": {},
   "outputs": [
    {
     "name": "stdout",
     "output_type": "stream",
     "text": [
      "2880.0 minutes\n"
     ]
    }
   ],
   "source": [
    "minutes=seconds//60\n",
    "print(minutes,\"minutes\")"
   ]
  },
  {
   "cell_type": "code",
   "execution_count": 7,
   "metadata": {},
   "outputs": [
    {
     "name": "stdout",
     "output_type": "stream",
     "text": [
      "48.0 hours\n"
     ]
    }
   ],
   "source": [
    "hours= minutes//60\n",
    "print(hours,\"hours\")"
   ]
  },
  {
   "cell_type": "code",
   "execution_count": 8,
   "metadata": {},
   "outputs": [],
   "source": [
    "import time"
   ]
  },
  {
   "cell_type": "code",
   "execution_count": 9,
   "metadata": {},
   "outputs": [
    {
     "name": "stdout",
     "output_type": "stream",
     "text": [
      "After what time you want remainder in secs?760\n"
     ]
    }
   ],
   "source": [
    "rem_time=int(input(\"After what time you want remainder in secs?\"))"
   ]
  },
  {
   "cell_type": "code",
   "execution_count": null,
   "metadata": {},
   "outputs": [],
   "source": [
    "from plyer import notification\n",
    "  \n",
    "while(True):\n",
    "    notification.notify(\n",
    "            title = \"Remainder\",\n",
    "            message=\"What remainder you want\" ,\n",
    "            \n",
    "            # displaying time\n",
    "            timeout= 10\n",
    ")\n",
    "        # waiting time\n",
    "time.sleep(rem_time)"
   ]
  }
 ],
 "metadata": {
  "kernelspec": {
   "display_name": "Python 3",
   "language": "python",
   "name": "python3"
  },
  "language_info": {
   "codemirror_mode": {
    "name": "ipython",
    "version": 3
   },
   "file_extension": ".py",
   "mimetype": "text/x-python",
   "name": "python",
   "nbconvert_exporter": "python",
   "pygments_lexer": "ipython3",
   "version": "3.7.6"
  }
 },
 "nbformat": 4,
 "nbformat_minor": 4
}
